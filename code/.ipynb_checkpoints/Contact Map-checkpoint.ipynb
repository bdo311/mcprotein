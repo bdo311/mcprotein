{
 "cells": [
  {
   "cell_type": "code",
   "execution_count": null,
   "metadata": {},
   "outputs": [],
   "source": [
    "import numpy as np\n",
    "import matplotlib.pyplot as plt\n",
    "import pandas as pd\n",
    "\n",
    "def contact_map_generation(filename):\n",
    "    contact_map = pd.read_csv(filename, header = None, sep = \"\\t\")\n",
    "    print(contact_map.shape)\n",
    "    rows,cols = contact_map.shape\n",
    "#     contact_map.head()\n",
    "    plt.figure()\n",
    "    plt.matshow(contact_map)\n",
    "    plt.show()\n",
    "    return contact_map\n",
    "\n",
    "def masking_contactMap(mask, contact_map):\n",
    "    for a in range(mask, contact_map.shape[0]-mask):\n",
    "        contact_map.iloc[a, a] = 100\n",
    "        for b in range(mask):\n",
    "            contact_map.iloc[a, a-(b+1)] = 100\n",
    "            contact_map.iloc[a, a+(b+1)] = 100\n",
    "    plt.figure()\n",
    "    plt.matshow(contact_map)\n",
    "    plt.show()\n",
    "    return contact_map\n",
    "\n",
    "def thresholding_contactMap(threshold, contact_map):\n",
    "    contact_map_thresh = contact_map[contact_map < threshold]\n",
    "    plt.figure()\n",
    "    plt.matshow(contact_map_thresh)\n",
    "    plt.show()\n",
    "    return contact_map_thresh\n",
    "\n",
    "def graphing_contactMap(mask, threshold, contact_map):\n",
    "    contact_map_mask = masking_contactMap(mask, contact_map)\n",
    "    contact_map_thresh = thresholding_contactMap(threshold, contact_map_mask)\n",
    "    print(contact_map_thresh.shape)\n",
    "    return contact_map_thresh"
   ]
  },
  {
   "cell_type": "markdown",
   "metadata": {},
   "source": [
    "# Contact Map Generation\n",
    "## Cox1a"
   ]
  },
  {
   "cell_type": "code",
   "execution_count": null,
   "metadata": {},
   "outputs": [],
   "source": [
    "filename = '../data/DataTable_3n8v.txt'\n",
    "cox1a_contact_map = contact_map_generation(filename)\n",
    "cox1a_contact_map_thresh = graphing_contactMap(3, 8.0, cox1a_contact_map)"
   ]
  },
  {
   "cell_type": "markdown",
   "metadata": {},
   "source": [
    "## APRT (length 179)"
   ]
  },
  {
   "cell_type": "code",
   "execution_count": null,
   "metadata": {},
   "outputs": [],
   "source": [
    "filename = '../data/DataTable_1ORE.txt'\n",
    "aprt_contact_map = contact_map_generation(filename)\n",
    "aprt_contact_map_thresh = graphing_contactMap(3, 8.0, aprt_contact_map)"
   ]
  },
  {
   "cell_type": "markdown",
   "metadata": {},
   "source": [
    "## DHODH (length 359)"
   ]
  },
  {
   "cell_type": "code",
   "execution_count": null,
   "metadata": {},
   "outputs": [],
   "source": [
    "filename = '../data/DataTable_5K9D.txt'\n",
    "dhodh_contact_map = contact_map_generation(filename)\n",
    "dhodh_contact_map_thresh = graphing_contactMap(3, 8.0, dhodh_contact_map)"
   ]
  },
  {
   "cell_type": "markdown",
   "metadata": {},
   "source": [
    "# Finding mutual information from sequence alignment\n",
    "\n",
    "We will use MSA on the following regions for the respective proteins:\n",
    "\n",
    "Cox1 : 350:1350\n",
    "\n",
    "APRT: 900:1450\n",
    "\n",
    "DHODH: 200:1600\n",
    "\n",
    "\n"
   ]
  },
  {
   "cell_type": "code",
   "execution_count": null,
   "metadata": {},
   "outputs": [],
   "source": [
    "from math import log\n",
    "from collections import Counter\n",
    "\n",
    "def readIn_csv(filename):\n",
    "    df = pd.read_csv(filename,header = None)\n",
    "    df_1 = pd.read_csv(filename,header = None)\n",
    "    df = df.drop([0], axis = 1)\n",
    "    print(df.shape)\n",
    "    print(df.head())\n",
    "    return df, df_1\n",
    "\n",
    "def non_gaps_freq(df, savename):\n",
    "    gap_counts = df[df == '-'].count()\n",
    "    non_gap_counts_freq = 1 - gap_counts/df.shape[0]\n",
    "    plt.figure()\n",
    "    plt.bar(df.columns,non_gap_counts_freq)\n",
    "    plt.ylim(0,1.0)\n",
    "    plt.ylabel('Frequency of non-gaps')\n",
    "    plt.xlabel('Amino Acid position')\n",
    "    plt.savefig('Figures/non_gaps'+savename)\n",
    "    return non_gap_counts_freq\n",
    "\n",
    "def MI(seq_list, chosen_cols, rows, i, j):\n",
    "#     print([i, j])\n",
    "#     print(chosen_cols)\n",
    "    if i+1 in chosen_cols and j+1 in chosen_cols:\n",
    "        Pi = Counter(s[i] for s in seq_list)\n",
    "#         print(Pi)\n",
    "        Pj = Counter(s[j] for s in seq_list)\n",
    "#         print(Pj)\n",
    "        Pij = Counter((s[i],s[j]) for s in seq_list)\n",
    "#         print(Pij)\n",
    "        \n",
    "        return sum(Pij[(x,y)]/rows * log((Pij[(x,y)]/rows)/(Pi[x]/rows*Pj[y]/rows)) for x,y in Pij)\n",
    "\n",
    "def MI_histogram(results_table, savename):\n",
    "    results_1d = results_table.flatten()[~np.isnan(results_table.flatten())]\n",
    "    plt.figure()\n",
    "    plt.hist(results_1d)\n",
    "    plt.ylabel(\"Frequency\")\n",
    "    plt.xlabel(\"Mutual Information\")\n",
    "    plt.savefig('Figures/MutualInfo_hist'+savename)\n",
    "    return results_1d\n",
    "    \n",
    "def largest_indices(ary, n):\n",
    "    \"\"\"Returns the n largest indices from a numpy array.\"\"\"\n",
    "    flat = ary.flatten()\n",
    "    flat = np.nan_to_num(flat)\n",
    "    indices = np.argpartition(flat, -n)[-n:]\n",
    "    indices = indices[np.argsort(flat[indices])]\n",
    "    return np.unravel_index(indices, ary.shape)\n",
    "\n",
    "def MI_plot_largeIndices(results_table, cols, savename, n = 6000):\n",
    "    sort_ind = largest_indices(results_table,n)\n",
    "    sorted_results = (results_table[sort_ind])\n",
    "    print(len(sorted_results))\n",
    "    results_table_2 = np.zeros([cols, cols])\n",
    "    for a in range(1,len(sorted_results)):\n",
    "        inds = np.where(results_table == sorted_results[a])\n",
    "    #     print(inds)\n",
    "        for b in range(len(inds)):\n",
    "            if len(inds[b]) == 2:\n",
    "                results_table_2[inds[b][0],inds[b][1]] = sorted_results[a]\n",
    "    results_table_2[results_table_2 == 0] = 'nan'\n",
    "    plt.figure()\n",
    "    plt.matshow(results_table_2)\n",
    "    plt.xlabel('Amino Acid i')\n",
    "    plt.ylabel('Amino Acid j')\n",
    "    plt.savefig('Figures/MutualInfo_largeInds'+savename)\n",
    "    return results_table_2\n",
    "\n",
    "def correlate_distance_MI(MI_results, contact_map, n, savename):\n",
    "    xy_MI_distance = np.zeros([MI_results.shape[0], 2])\n",
    "    for a in range(MI_results.shape[0]):\n",
    "        for b in range(MI_results.shape[1]):\n",
    "            xy_MI_distance[a,0] = MI_results[a,b]\n",
    "            xy_MI_distance[a,1] = contact_map.iloc[a,b]\n",
    "    plt.figure()\n",
    "    plt.scatter(xy_MI_distance[:,0], xy_MI_distance[:,1], s = 5)\n",
    "    plt.xlabel('Mutual Information')\n",
    "    plt.ylabel('Distance (Angstroms)')\n",
    "    plt.savefig('Figures/corr_distance_MI'+str(savename))\n",
    "    return xy_MI_distance\n",
    "\n",
    "def calc_MI(df, contact_map, savename, gap_threshold = 0.2, n = 6000):\n",
    "    non_gap_counts_freq = non_gaps_freq(df, savename)\n",
    "    chosen_cols = df.columns[non_gap_counts_freq >= gap_threshold]\n",
    "    return chosen_cols\n",
    "#     print(chosen_cols)\n",
    "    rows,cols = df.shape\n",
    "    List_i = range(0,cols)\n",
    "    List_j = range(0,cols)\n",
    "    seq_list = df.to_string(header=False, index=False,index_names=False).split('\\n')\n",
    "    seq_list = [s.replace(\" \",\"\") for s in seq_list]\n",
    "    results_table = np.zeros([cols, cols])\n",
    "    for a in range(len(List_i)):\n",
    "        for b in range(len(List_j)):\n",
    "            results_table[a,b] = MI(seq_list, chosen_cols, rows, List_i[a], List_j[b])\n",
    "    plt.figure()\n",
    "    plt.matshow(results_table)\n",
    "    plt.xlabel(\"Amino Acid i\")\n",
    "    plt.ylabel(\"Amino Acid j\")\n",
    "    plt.savefig('Figures/MutualInfo_all'+savename)\n",
    "    results_1d = MI_histogram(results_table, savename)    \n",
    "    results_table_2 = MI_plot_largeIndices(results_table, cols, savename, n)\n",
    "    contact_rows, contact_cols = contact_map.shape\n",
    "    MI_rows, MI_cols = results_table.shape\n",
    "    length = min(MI_rows, contact_rows)\n",
    "    MI_results_abrgd = results_table[chosen_cols[:length], chosen_cols[:length]\n",
    "    contact_results_abrdged = contact_map.iloc[:length,:length]\n",
    "    print(MI_results_abrgd.shape)\n",
    "    print(contact_results_abrdged.shape)\n",
    "    xy_MI_distance = correlate_distance_MI(MI_results_abrgd, contact_results_abrdged, n, savename)\n",
    "    return results_table, results_table_2\n",
    "\n"
   ]
  },
  {
   "cell_type": "markdown",
   "metadata": {},
   "source": [
    "## Cox1"
   ]
  },
  {
   "cell_type": "code",
   "execution_count": null,
   "metadata": {},
   "outputs": [],
   "source": [
    "df_cox1, df_cox1_1 = readIn_csv('../data/alignment_Data/muscle_cox1_processed.csv')\n",
    "MI_results_cox1, MI_results_cox1_largeIndices = calc_MI(df_cox1, cox1a_contact_map, '_cox1.jpg', 0.2, 6000)"
   ]
  },
  {
   "cell_type": "markdown",
   "metadata": {},
   "source": [
    "## APRT"
   ]
  },
  {
   "cell_type": "code",
   "execution_count": null,
   "metadata": {},
   "outputs": [],
   "source": [
    "df_aprt, df_aprt_1 = readIn_csv('../data/alignment_Data/muscle_aprt_processed.csv')\n",
    "MI_results_aprt, MI_results_aprt_largeIndices = calc_MI(df_aprt, '_aprt.jpg', 0.2, 6000)"
   ]
  },
  {
   "cell_type": "markdown",
   "metadata": {},
   "source": [
    "## DHODH"
   ]
  },
  {
   "cell_type": "code",
   "execution_count": null,
   "metadata": {},
   "outputs": [],
   "source": [
    "df_dhodh, df_dhodh_1 = readIn_csv('../data/alignment_Data/muscle_DHODH_processed.csv')\n",
    "MI_results_dhodh, MI_results_dhodh_largeIndices = calc_MI(df_dhodh, '_dhodh.jpg', 0.2, 6000)"
   ]
  },
  {
   "cell_type": "code",
   "execution_count": null,
   "metadata": {},
   "outputs": [],
   "source": [
    "a = calc_MI(df_cox1, cox1a_contact_map, '_cox1.jpg', 0.2, 6000)"
   ]
  },
  {
   "cell_type": "code",
   "execution_count": null,
   "metadata": {},
   "outputs": [],
   "source": []
  }
 ],
 "metadata": {
  "kernelspec": {
   "display_name": "Python 3",
   "language": "python",
   "name": "python3"
  },
  "language_info": {
   "codemirror_mode": {
    "name": "ipython",
    "version": 3
   },
   "file_extension": ".py",
   "mimetype": "text/x-python",
   "name": "python",
   "nbconvert_exporter": "python",
   "pygments_lexer": "ipython3",
   "version": "3.7.0"
  }
 },
 "nbformat": 4,
 "nbformat_minor": 2
}
