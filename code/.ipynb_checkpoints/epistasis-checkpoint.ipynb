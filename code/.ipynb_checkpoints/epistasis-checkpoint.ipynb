{
 "cells": [
  {
   "cell_type": "code",
   "execution_count": 76,
   "metadata": {},
   "outputs": [],
   "source": [
    "import latticeproteins as lp\n",
    "# need to use myenv2 python -m ipykernel install --user --name myenv --display-name \"Python (myenv)\"\n",
    "import numpy as np\n",
    "import pandas as pd\n",
    "import matplotlib.pyplot as plt\n",
    "import seaborn as sns"
   ]
  },
  {
   "cell_type": "code",
   "execution_count": 70,
   "metadata": {},
   "outputs": [],
   "source": [
    "seq_length = 18\n",
    "temperature = 1.0\n",
    "lattice = lp.LatticeThermodynamics.from_length(seq_length, 1.0)"
   ]
  },
  {
   "cell_type": "code",
   "execution_count": 44,
   "metadata": {},
   "outputs": [
    {
     "name": "stdout",
     "output_type": "stream",
     "text": [
      "['E', 'C', 'H', 'M', 'I', 'P', 'V', 'D', 'D', 'A', 'E', 'E', 'Y', 'S', 'E', 'P', 'P', 'A']\n",
      "Energy of native conformation: -31.420000\n",
      "stability of native conformation: 3.662020\n",
      "fraction folded: 0.025038\n"
     ]
    }
   ],
   "source": [
    "# important commands\n",
    "seq = lp.random_sequence(seq_length)\n",
    "print(seq)\n",
    "print(\"Energy of native conformation: %f\" % lattice.nativeE(seq)) \n",
    "print(\"stability of native conformation: %f\" % lattice.stability(seq)) \n",
    "print(\"fraction folded: %f\" % lattice.fracfolded(seq))"
   ]
  },
  {
   "cell_type": "code",
   "execution_count": 45,
   "metadata": {},
   "outputs": [
    {
     "data": {
      "image/svg+xml": [
       "<svg baseProfile=\"full\" height=\"260\" version=\"1.1\" width=\"220\" xmlns=\"http://www.w3.org/2000/svg\" xmlns:ev=\"http://www.w3.org/2001/xml-events\" xmlns:xlink=\"http://www.w3.org/1999/xlink\"><defs /><text style=\"font-size:20.0px;font-family:Courier\" x=\"4.25\" y=\"12.5\">.</text><text style=\"font-size:20.0px;font-family:Courier\" x=\"44.25\" y=\"12.5\">.</text><text style=\"font-size:20.0px;font-family:Courier\" x=\"84.25\" y=\"12.5\">.</text><text style=\"font-size:20.0px;font-family:Courier\" x=\"124.25\" y=\"12.5\">.</text><text style=\"font-size:20.0px;font-family:Courier\" x=\"164.25\" y=\"12.5\">.</text><text style=\"font-size:20.0px;font-family:Courier\" x=\"204.25\" y=\"12.5\">.</text><text style=\"font-size:20.0px;font-family:Courier\" x=\"4.25\" y=\"52.5\">.</text><text style=\"font-size:20.0px;font-family:Courier\" x=\"44.25\" y=\"52.5\">.</text><text style=\"font-size:20px;font-family:Courier;font-weight:normal;fill:black\" x=\"84.5\" y=\"55.0\">S</text><line stroke=\"rgb(10%,10%,16%)\" style=\"stroke-width:2.0\" x1=\"105.0\" x2=\"115.0\" y1=\"50.0\" y2=\"50.0\" /><text style=\"font-size:20px;font-family:Courier;font-weight:normal;fill:black\" x=\"124.5\" y=\"55.0\">E</text><line stroke=\"rgb(10%,10%,16%)\" style=\"stroke-width:2.0\" x1=\"145.0\" x2=\"155.0\" y1=\"50.0\" y2=\"50.0\" /><text style=\"font-size:20px;font-family:Courier;font-weight:normal;fill:black\" x=\"164.5\" y=\"55.0\">P</text><text style=\"font-size:20.0px;font-family:Courier\" x=\"204.25\" y=\"52.5\">.</text><line stroke=\"rgb(10%,10%,16%)\" style=\"stroke-width:2.0\" x1=\"90.0\" x2=\"90.0\" y1=\"65.0\" y2=\"75.0\" /><line stroke=\"rgb(10%,10%,16%)\" style=\"stroke-width:2.0\" x1=\"170.0\" x2=\"170.0\" y1=\"75.0\" y2=\"65.0\" /><text style=\"font-size:20.0px;font-family:Courier\" x=\"4.25\" y=\"92.5\">.</text><text style=\"font-size:20px;font-family:Courier;font-weight:normal;fill:black\" x=\"44.5\" y=\"95.0\">E</text><line stroke=\"rgb(10%,10%,16%)\" style=\"stroke-width:2.0\" x1=\"65.0\" x2=\"75.0\" y1=\"90.0\" y2=\"90.0\" /><text style=\"font-size:20px;font-family:Courier;font-weight:normal;fill:black\" x=\"84.5\" y=\"95.0\">Y</text><text style=\"font-size:20px;font-family:Courier;font-weight:normal;fill:black\" x=\"124.5\" y=\"95.0\">A</text><line stroke=\"rgb(10%,10%,16%)\" style=\"stroke-width:2.0\" x1=\"155.0\" x2=\"145.0\" y1=\"90.0\" y2=\"90.0\" /><text style=\"font-size:20px;font-family:Courier;font-weight:normal;fill:black\" x=\"164.5\" y=\"95.0\">P</text><text style=\"font-size:20.0px;font-family:Courier\" x=\"204.25\" y=\"92.5\">.</text><line stroke=\"rgb(10%,10%,16%)\" style=\"stroke-width:2.0\" x1=\"50.0\" x2=\"50.0\" y1=\"105.0\" y2=\"115.0\" /><text style=\"font-size:20.0px;font-family:Courier\" x=\"4.25\" y=\"132.5\">.</text><text style=\"font-size:20px;font-family:Courier;font-weight:normal;fill:black\" x=\"44.5\" y=\"135.0\">E</text><text style=\"font-size:20px;font-family:Courier;font-weight:normal;fill:black\" x=\"84.5\" y=\"135.0\">P</text><line stroke=\"rgb(10%,10%,16%)\" style=\"stroke-width:2.0\" x1=\"115.0\" x2=\"105.0\" y1=\"130.0\" y2=\"130.0\" /><text style=\"font-size:20px;font-family:Courier;font-weight:normal;fill:black\" x=\"124.5\" y=\"135.0\">I</text><line stroke=\"rgb(10%,10%,16%)\" style=\"stroke-width:2.0\" x1=\"155.0\" x2=\"145.0\" y1=\"130.0\" y2=\"130.0\" /><text style=\"font-size:20px;font-family:Courier;font-weight:normal;fill:black\" x=\"164.5\" y=\"135.0\">M</text><text style=\"font-size:20.0px;font-family:Courier\" x=\"204.25\" y=\"132.5\">.</text><line stroke=\"rgb(10%,10%,16%)\" style=\"stroke-width:2.0\" x1=\"50.0\" x2=\"50.0\" y1=\"145.0\" y2=\"155.0\" /><line stroke=\"rgb(10%,10%,16%)\" style=\"stroke-width:2.0\" x1=\"90.0\" x2=\"90.0\" y1=\"155.0\" y2=\"145.0\" /><line stroke=\"rgb(10%,10%,16%)\" style=\"stroke-width:2.0\" x1=\"170.0\" x2=\"170.0\" y1=\"145.0\" y2=\"155.0\" /><text style=\"font-size:20.0px;font-family:Courier\" x=\"4.25\" y=\"172.5\">.</text><text style=\"font-size:20px;font-family:Courier;font-weight:normal;fill:black\" x=\"44.5\" y=\"175.0\">A</text><text style=\"font-size:20px;font-family:Courier;font-weight:normal;fill:black\" x=\"84.5\" y=\"175.0\">V</text><text style=\"font-size:20px;font-family:Courier;font-weight:normal;fill:black\" x=\"124.5\" y=\"175.0\">C</text><line stroke=\"rgb(10%,10%,16%)\" style=\"stroke-width:2.0\" x1=\"145.0\" x2=\"155.0\" y1=\"170.0\" y2=\"170.0\" /><text style=\"font-size:20px;font-family:Courier;font-weight:normal;fill:black\" x=\"164.5\" y=\"175.0\">H</text><text style=\"font-size:20.0px;font-family:Courier\" x=\"204.25\" y=\"172.5\">.</text><line stroke=\"rgb(10%,10%,16%)\" style=\"stroke-width:2.0\" x1=\"50.0\" x2=\"50.0\" y1=\"185.0\" y2=\"195.0\" /><line stroke=\"rgb(10%,10%,16%)\" style=\"stroke-width:2.0\" x1=\"90.0\" x2=\"90.0\" y1=\"195.0\" y2=\"185.0\" /><line stroke=\"rgb(10%,10%,16%)\" style=\"stroke-width:2.0\" x1=\"130.0\" x2=\"130.0\" y1=\"185.0\" y2=\"195.0\" /><text style=\"font-size:20.0px;font-family:Courier\" x=\"4.25\" y=\"212.5\">.</text><text style=\"font-size:20px;font-family:Courier;font-weight:normal;fill:black\" x=\"44.5\" y=\"215.0\">D</text><line stroke=\"rgb(10%,10%,16%)\" style=\"stroke-width:2.0\" x1=\"75.0\" x2=\"65.0\" y1=\"210.0\" y2=\"210.0\" /><text style=\"font-size:20px;font-family:Courier;font-weight:normal;fill:black\" x=\"84.5\" y=\"215.0\">D</text><text style=\"font-size:20px;font-family:Courier;font-weight:normal;fill:black\" x=\"124.5\" y=\"215.0\">E</text><text style=\"font-size:20.0px;font-family:Courier\" x=\"164.25\" y=\"212.5\">.</text><text style=\"font-size:20.0px;font-family:Courier\" x=\"204.25\" y=\"212.5\">.</text><text style=\"font-size:20.0px;font-family:Courier\" x=\"4.25\" y=\"252.5\">.</text><text style=\"font-size:20.0px;font-family:Courier\" x=\"44.25\" y=\"252.5\">.</text><text style=\"font-size:20.0px;font-family:Courier\" x=\"84.25\" y=\"252.5\">.</text><text style=\"font-size:20.0px;font-family:Courier\" x=\"124.25\" y=\"252.5\">.</text><text style=\"font-size:20.0px;font-family:Courier\" x=\"164.25\" y=\"252.5\">.</text><text style=\"font-size:20.0px;font-family:Courier\" x=\"204.25\" y=\"252.5\">.</text></svg>"
      ],
      "text/plain": [
       "<latticeproteins.draw.Configuration object>"
      ]
     },
     "execution_count": 45,
     "metadata": {},
     "output_type": "execute_result"
    }
   ],
   "source": [
    "conf = lattice.native_conf(seq)\n",
    "lp.draw.in_notebook(seq, conf)"
   ]
  },
  {
   "cell_type": "code",
   "execution_count": 46,
   "metadata": {},
   "outputs": [],
   "source": [
    "# see how many random sequences it takes to get to a frac folded of 0.7\n",
    "# save the first protein that has a frac fold of 0.7\n",
    "i = 0\n",
    "max_fracfolded = 0\n",
    "while max_fracfolded < 0.7:\n",
    "    seq = lp.random_sequence(seq_length)\n",
    "    fracfold = lattice.fracfolded(seq)\n",
    "    if fracfold > max_fracfolded:\n",
    "        max_fracfolded = fracfold\n",
    "    i += 1"
   ]
  },
  {
   "cell_type": "code",
   "execution_count": 47,
   "metadata": {},
   "outputs": [
    {
     "data": {
      "text/plain": [
       "8273"
      ]
     },
     "execution_count": 47,
     "metadata": {},
     "output_type": "execute_result"
    }
   ],
   "source": [
    "i"
   ]
  },
  {
   "cell_type": "code",
   "execution_count": 49,
   "metadata": {},
   "outputs": [
    {
     "data": {
      "image/svg+xml": [
       "<svg baseProfile=\"full\" height=\"220\" version=\"1.1\" width=\"260\" xmlns=\"http://www.w3.org/2000/svg\" xmlns:ev=\"http://www.w3.org/2001/xml-events\" xmlns:xlink=\"http://www.w3.org/1999/xlink\"><defs /><text style=\"font-size:20.0px;font-family:Courier\" x=\"4.25\" y=\"12.5\">.</text><text style=\"font-size:20.0px;font-family:Courier\" x=\"44.25\" y=\"12.5\">.</text><text style=\"font-size:20.0px;font-family:Courier\" x=\"84.25\" y=\"12.5\">.</text><text style=\"font-size:20.0px;font-family:Courier\" x=\"124.25\" y=\"12.5\">.</text><text style=\"font-size:20.0px;font-family:Courier\" x=\"164.25\" y=\"12.5\">.</text><text style=\"font-size:20.0px;font-family:Courier\" x=\"204.25\" y=\"12.5\">.</text><text style=\"font-size:20.0px;font-family:Courier\" x=\"244.25\" y=\"12.5\">.</text><text style=\"font-size:20.0px;font-family:Courier\" x=\"4.25\" y=\"52.5\">.</text><text style=\"font-size:20px;font-family:Courier;font-weight:normal;fill:black\" x=\"44.5\" y=\"55.0\">T</text><line stroke=\"rgb(10%,10%,16%)\" style=\"stroke-width:2.0\" x1=\"65.0\" x2=\"75.0\" y1=\"50.0\" y2=\"50.0\" /><text style=\"font-size:20px;font-family:Courier;font-weight:normal;fill:black\" x=\"84.5\" y=\"55.0\">I</text><text style=\"font-size:20px;font-family:Courier;font-weight:normal;fill:black\" x=\"124.5\" y=\"55.0\">I</text><line stroke=\"rgb(10%,10%,16%)\" style=\"stroke-width:2.0\" x1=\"145.0\" x2=\"155.0\" y1=\"50.0\" y2=\"50.0\" /><text style=\"font-size:20px;font-family:Courier;font-weight:normal;fill:black\" x=\"164.5\" y=\"55.0\">D</text><text style=\"font-size:20.0px;font-family:Courier\" x=\"204.25\" y=\"52.5\">.</text><text style=\"font-size:20.0px;font-family:Courier\" x=\"244.25\" y=\"52.5\">.</text><line stroke=\"rgb(10%,10%,16%)\" style=\"stroke-width:2.0\" x1=\"50.0\" x2=\"50.0\" y1=\"65.0\" y2=\"75.0\" /><line stroke=\"rgb(10%,10%,16%)\" style=\"stroke-width:2.0\" x1=\"90.0\" x2=\"90.0\" y1=\"75.0\" y2=\"65.0\" /><line stroke=\"rgb(10%,10%,16%)\" style=\"stroke-width:2.0\" x1=\"130.0\" x2=\"130.0\" y1=\"65.0\" y2=\"75.0\" /><line stroke=\"rgb(10%,10%,16%)\" style=\"stroke-width:2.0\" x1=\"170.0\" x2=\"170.0\" y1=\"75.0\" y2=\"65.0\" /><text style=\"font-size:20.0px;font-family:Courier\" x=\"4.25\" y=\"92.5\">.</text><text style=\"font-size:20px;font-family:Courier;font-weight:normal;fill:black\" x=\"44.5\" y=\"95.0\">T</text><text style=\"font-size:20px;font-family:Courier;font-weight:normal;fill:black\" x=\"84.5\" y=\"95.0\">M</text><text style=\"font-size:20px;font-family:Courier;font-weight:normal;fill:black\" x=\"124.5\" y=\"95.0\">W</text><text style=\"font-size:20px;font-family:Courier;font-weight:normal;fill:black\" x=\"164.5\" y=\"95.0\">F</text><line stroke=\"rgb(10%,10%,16%)\" style=\"stroke-width:2.0\" x1=\"185.0\" x2=\"195.0\" y1=\"90.0\" y2=\"90.0\" /><text style=\"font-size:20px;font-family:Courier;font-weight:normal;fill:black\" x=\"204.5\" y=\"95.0\">K</text><text style=\"font-size:20.0px;font-family:Courier\" x=\"244.25\" y=\"92.5\">.</text><line stroke=\"rgb(10%,10%,16%)\" style=\"stroke-width:2.0\" x1=\"50.0\" x2=\"50.0\" y1=\"105.0\" y2=\"115.0\" /><line stroke=\"rgb(10%,10%,16%)\" style=\"stroke-width:2.0\" x1=\"210.0\" x2=\"210.0\" y1=\"115.0\" y2=\"105.0\" /><text style=\"font-size:20.0px;font-family:Courier\" x=\"4.25\" y=\"132.5\">.</text><text style=\"font-size:20px;font-family:Courier;font-weight:normal;fill:black\" x=\"44.5\" y=\"135.0\">F</text><text style=\"font-size:20px;font-family:Courier;font-weight:normal;fill:black\" x=\"84.5\" y=\"135.0\">W</text><line stroke=\"rgb(10%,10%,16%)\" style=\"stroke-width:2.0\" x1=\"115.0\" x2=\"105.0\" y1=\"130.0\" y2=\"130.0\" /><text style=\"font-size:20px;font-family:Courier;font-weight:normal;fill:black\" x=\"124.5\" y=\"135.0\">M</text><text style=\"font-size:20px;font-family:Courier;font-weight:normal;fill:black\" x=\"164.5\" y=\"135.0\">W</text><line stroke=\"rgb(10%,10%,16%)\" style=\"stroke-width:2.0\" x1=\"195.0\" x2=\"185.0\" y1=\"130.0\" y2=\"130.0\" /><text style=\"font-size:20px;font-family:Courier;font-weight:normal;fill:black\" x=\"204.5\" y=\"135.0\">Y</text><text style=\"font-size:20.0px;font-family:Courier\" x=\"244.25\" y=\"132.5\">.</text><line stroke=\"rgb(10%,10%,16%)\" style=\"stroke-width:2.0\" x1=\"50.0\" x2=\"50.0\" y1=\"145.0\" y2=\"155.0\" /><line stroke=\"rgb(10%,10%,16%)\" style=\"stroke-width:2.0\" x1=\"90.0\" x2=\"90.0\" y1=\"155.0\" y2=\"145.0\" /><line stroke=\"rgb(10%,10%,16%)\" style=\"stroke-width:2.0\" x1=\"130.0\" x2=\"130.0\" y1=\"145.0\" y2=\"155.0\" /><line stroke=\"rgb(10%,10%,16%)\" style=\"stroke-width:2.0\" x1=\"170.0\" x2=\"170.0\" y1=\"155.0\" y2=\"145.0\" /><text style=\"font-size:20.0px;font-family:Courier\" x=\"4.25\" y=\"172.5\">.</text><text style=\"font-size:20px;font-family:Courier;font-weight:normal;fill:black\" x=\"44.5\" y=\"175.0\">G</text><line stroke=\"rgb(10%,10%,16%)\" style=\"stroke-width:2.0\" x1=\"75.0\" x2=\"65.0\" y1=\"170.0\" y2=\"170.0\" /><text style=\"font-size:20px;font-family:Courier;font-weight:normal;fill:black\" x=\"84.5\" y=\"175.0\">W</text><text style=\"font-size:20px;font-family:Courier;font-weight:normal;fill:black\" x=\"124.5\" y=\"175.0\">H</text><line stroke=\"rgb(10%,10%,16%)\" style=\"stroke-width:2.0\" x1=\"155.0\" x2=\"145.0\" y1=\"170.0\" y2=\"170.0\" /><text style=\"font-size:20px;font-family:Courier;font-weight:normal;fill:black\" x=\"164.5\" y=\"175.0\">Y</text><text style=\"font-size:20.0px;font-family:Courier\" x=\"204.25\" y=\"172.5\">.</text><text style=\"font-size:20.0px;font-family:Courier\" x=\"244.25\" y=\"172.5\">.</text><text style=\"font-size:20.0px;font-family:Courier\" x=\"4.25\" y=\"212.5\">.</text><text style=\"font-size:20.0px;font-family:Courier\" x=\"44.25\" y=\"212.5\">.</text><text style=\"font-size:20.0px;font-family:Courier\" x=\"84.25\" y=\"212.5\">.</text><text style=\"font-size:20.0px;font-family:Courier\" x=\"124.25\" y=\"212.5\">.</text><text style=\"font-size:20.0px;font-family:Courier\" x=\"164.25\" y=\"212.5\">.</text><text style=\"font-size:20.0px;font-family:Courier\" x=\"204.25\" y=\"212.5\">.</text><text style=\"font-size:20.0px;font-family:Courier\" x=\"244.25\" y=\"212.5\">.</text></svg>"
      ],
      "text/plain": [
       "<latticeproteins.draw.Configuration object>"
      ]
     },
     "execution_count": 49,
     "metadata": {},
     "output_type": "execute_result"
    }
   ],
   "source": [
    "conf = lattice.native_conf(seq)\n",
    "lp.draw.in_notebook(seq, conf)"
   ]
  },
  {
   "cell_type": "code",
   "execution_count": 86,
   "metadata": {},
   "outputs": [],
   "source": [
    "# make lots of mutations and look at their fitness\n",
    "# fitness = the percentage of folded \n",
    "df_mutations = pd.DataFrame({'nmut': [0], 'fitness': [lattice.fracfolded(seq2)]})\n",
    "for nmut in range(1,10):  # consider between 1 and 10 mutations\n",
    "    for mut_seq in lp.sequences.n_mutants(seq2, nmut, 100):  # consider 100 proteins\n",
    "        df_mutations = df_mutations.append({'nmut': nmut, 'fitness': lattice.fracfolded(mut_seq)}, ignore_index=True)"
   ]
  },
  {
   "cell_type": "code",
   "execution_count": 87,
   "metadata": {},
   "outputs": [
    {
     "data": {
      "text/plain": [
       "<matplotlib.axes._subplots.AxesSubplot at 0x11a163588>"
      ]
     },
     "execution_count": 87,
     "metadata": {},
     "output_type": "execute_result"
    },
    {
     "data": {
      "image/png": "[encoded data removed]",
      "text/plain": [
       "<Figure size 432x288 with 1 Axes>"
      ]
     },
     "metadata": {
      "needs_background": "light"
     },
     "output_type": "display_data"
    }
   ],
   "source": [
    "sns.boxplot(x=\"nmut\", y=\"fitness\", data=df_mutations)"
   ]
  },
  {
   "cell_type": "code",
   "execution_count": 77,
   "metadata": {},
   "outputs": [],
   "source": [
    "# can we make proteins with a frac fold of 0.7 by iteratively mutating?\n",
    "# yes -- this only takes 4 iterations\n",
    "seq2 = lp.random_sequence(seq_length)\n",
    "fracfold = lattice.fracfolded(seq2)\n",
    "iterations = 0\n",
    "while fracfold < 0.7:\n",
    "    iterations += 1\n",
    "    candidates = lp.sequences.n_mutants(seq2, 1, 100)  # consider 100 proteins\n",
    "    candidates_frac = [lattice.fracfolded(x) for x in candidates]\n",
    "    max_index = np.argmax(candidates_frac)\n",
    "    seq2 = candidates[max_index]\n",
    "    fracfold = candidates_frac[max_index]"
   ]
  },
  {
   "cell_type": "code",
   "execution_count": 79,
   "metadata": {},
   "outputs": [
    {
     "data": {
      "text/plain": [
       "0.7790687597623936"
      ]
     },
     "execution_count": 79,
     "metadata": {},
     "output_type": "execute_result"
    }
   ],
   "source": [
    "lattice.fracfolded(seq2)"
   ]
  }
 ],
 "metadata": {
  "kernelspec": {
   "display_name": "Python (myenv2)",
   "language": "python",
   "name": "myenv2"
  },
  "language_info": {
   "codemirror_mode": {
    "name": "ipython",
    "version": 3
   },
   "file_extension": ".py",
   "mimetype": "text/x-python",
   "name": "python",
   "nbconvert_exporter": "python",
   "pygments_lexer": "ipython3",
   "version": "3.7.1"
  }
 },
 "nbformat": 4,
 "nbformat_minor": 2
}
